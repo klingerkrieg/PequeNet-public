{
 "cells": [
  {
   "cell_type": "code",
   "execution_count": null,
   "id": "310b8fdd",
   "metadata": {},
   "outputs": [],
   "source": [
    "# DeepLabV3+MobilenetV2\n",
    "from torchvision.models import mobilenet_v2\n",
    "# Adaptar para usar como DeepLab\n",
    "from torchvision.models.segmentation.deeplabv3 import DeepLabHead, DeepLabV3\n",
    "import torch.nn as nn\n",
    "\n",
    "from Trainer import Trainer\n",
    "from SemanticPequeNet import SemanticTrainer\n",
    "\n",
    "#jupyter nbconvert --to script MobileNetV2.ipynb\n"
   ]
  },
  {
   "cell_type": "code",
   "execution_count": null,
   "id": "424cbaf1",
   "metadata": {},
   "outputs": [],
   "source": [
    "\n",
    "class MobileNetBackbone(nn.Module):\n",
    "    def __init__(self, in_channels=3):\n",
    "        super().__init__()\n",
    "        mobilenet = mobilenet_v2(weights='DEFAULT')\n",
    "        \n",
    "\n",
    "        if in_channels != 3:\n",
    "            # Modificar a primeira camada para aceitar 1 canal\n",
    "            first_conv = mobilenet.features[0][0]  # Conv2d\n",
    "            mobilenet.features[0][0] = nn.Conv2d(\n",
    "                in_channels=in_channels,\n",
    "                out_channels=first_conv.out_channels,\n",
    "                kernel_size=first_conv.kernel_size,\n",
    "                stride=first_conv.stride,\n",
    "                padding=first_conv.padding,\n",
    "                bias=first_conv.bias is not None\n",
    "            )\n",
    "        \n",
    "        self.features = mobilenet.features\n",
    "        self.out_channels = 1280\n",
    "\n",
    "    def forward(self, x):\n",
    "        x = self.features(x)\n",
    "        return {\"out\": x} \n",
    "\n",
    "\n",
    "class MobileNetV2Trainer(Trainer):\n",
    "\n",
    "    def get_model_output(self,images):\n",
    "        return self.model(images)['out']\n",
    "    \n",
    "class MobileNetV2SemanticTrainer(SemanticTrainer):\n",
    "\n",
    "    def get_model_output(self,images):\n",
    "        return self.model(images)['out']\n",
    "\n",
    "\n",
    "def getDeepLabV3_MobileNetV2(num_classes, in_channels=3):\n",
    "    backbone = MobileNetBackbone(in_channels=in_channels)\n",
    "    return DeepLabV3(backbone=backbone, classifier=DeepLabHead(1280, num_classes))\n"
   ]
  }
 ],
 "metadata": {
  "kernelspec": {
   "display_name": "pytorch",
   "language": "python",
   "name": "python3"
  },
  "language_info": {
   "codemirror_mode": {
    "name": "ipython",
    "version": 3
   },
   "file_extension": ".py",
   "mimetype": "text/x-python",
   "name": "python",
   "nbconvert_exporter": "python",
   "pygments_lexer": "ipython3",
   "version": "3.10.16"
  }
 },
 "nbformat": 4,
 "nbformat_minor": 5
}
