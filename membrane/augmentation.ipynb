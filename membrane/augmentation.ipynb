{
 "cells": [
  {
   "cell_type": "code",
   "execution_count": 1,
   "id": "e3a24687",
   "metadata": {},
   "outputs": [],
   "source": [
    "import config\n",
    "import os\n",
    "import cv2\n",
    "import albumentations as A\n",
    "from tqdm import tqdm\n"
   ]
  },
  {
   "cell_type": "code",
   "execution_count": 2,
   "id": "7267644d",
   "metadata": {},
   "outputs": [
    {
     "name": "stderr",
     "output_type": "stream",
     "text": [
      "/home/alan/miniconda3/envs/pytorch/lib/python3.10/site-packages/albumentations/core/validation.py:114: UserWarning: ShiftScaleRotate is a special case of Affine transform. Please use Affine transform instead.\n",
      "  original_init(self, **validated_kwargs)\n",
      "100%|██████████| 30/30 [00:18<00:00,  1.66it/s]\n"
     ]
    }
   ],
   "source": [
    "# Caminhos\n",
    "input_image_dir = config.dataset_path+'train/image'\n",
    "input_mask_dir  = config.dataset_path+'train/label'\n",
    "output_image_dir = config.dataset_path+'train_aug/image'\n",
    "output_mask_dir  = config.dataset_path+'train_aug/label'\n",
    "\n",
    "# Criar diretórios se não existirem\n",
    "os.makedirs(output_image_dir, exist_ok=True)\n",
    "os.makedirs(output_mask_dir, exist_ok=True)\n",
    "\n",
    "# Número de aumentações por imagem\n",
    "N = 20\n",
    "\n",
    "# Transformações\n",
    "transform = A.Compose([\n",
    "    A.HorizontalFlip(p=0.5),\n",
    "    A.VerticalFlip(p=0.5),\n",
    "    A.RandomRotate90(p=0.5),\n",
    "    #A.Rotate(limit=45, p=0.5),\n",
    "    A.ShiftScaleRotate(\n",
    "            shift_limit=0.1,\n",
    "            scale_limit=0.1,\n",
    "            rotate_limit=30,\n",
    "            p=0.7,\n",
    "            border_mode=cv2.BORDER_REFLECT\n",
    "    ),\n",
    "    A.RandomBrightnessContrast(p=0.5),\n",
    "    A.ElasticTransform(p=0.2),\n",
    "    A.GaussianBlur(p=0.3),\n",
    "    A.GridDistortion(p=0.2),\n",
    "    A.GaussNoise(p=0.2),\n",
    "])\n",
    "\n",
    "# Listar imagens\n",
    "image_filenames = sorted(os.listdir(input_image_dir))\n",
    "\n",
    "# Aplicar aumentações\n",
    "for img_name in tqdm(image_filenames):\n",
    "    img_path = os.path.join(input_image_dir, img_name)\n",
    "    mask_path = os.path.join(input_mask_dir, img_name)\n",
    "\n",
    "    image = cv2.imread(img_path)\n",
    "    mask = cv2.imread(mask_path, cv2.IMREAD_GRAYSCALE)\n",
    "\n",
    "    # Salvar imagem original\n",
    "    cv2.imwrite(os.path.join(output_image_dir, f\"{img_name[:-4]}_orig.png\"), image)\n",
    "    cv2.imwrite(os.path.join(output_mask_dir, f\"{img_name[:-4]}_orig.png\"), mask)\n",
    "\n",
    "    for i in range(N):\n",
    "        augmented = transform(image=image, mask=mask)\n",
    "        aug_img = augmented['image']\n",
    "        aug_mask = augmented['mask']\n",
    "\n",
    "        out_img_path = os.path.join(output_image_dir, f\"{img_name[:-4]}_aug{i}.png\")\n",
    "        out_mask_path = os.path.join(output_mask_dir, f\"{img_name[:-4]}_aug{i}.png\")\n",
    "\n",
    "        cv2.imwrite(out_img_path, aug_img)\n",
    "        cv2.imwrite(out_mask_path, aug_mask)\n"
   ]
  }
 ],
 "metadata": {
  "kernelspec": {
   "display_name": "pytorch",
   "language": "python",
   "name": "python3"
  },
  "language_info": {
   "codemirror_mode": {
    "name": "ipython",
    "version": 3
   },
   "file_extension": ".py",
   "mimetype": "text/x-python",
   "name": "python",
   "nbconvert_exporter": "python",
   "pygments_lexer": "ipython3",
   "version": "3.10.16"
  }
 },
 "nbformat": 4,
 "nbformat_minor": 5
}
